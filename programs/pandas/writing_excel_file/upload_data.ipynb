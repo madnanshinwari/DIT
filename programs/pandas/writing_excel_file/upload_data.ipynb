{
 "cells": [
  {
   "cell_type": "code",
   "execution_count": 6,
   "metadata": {},
   "outputs": [
    {
     "name": "stdout",
     "output_type": "stream",
     "text": [
      "dataset written to student_data.xlsx\n"
     ]
    }
   ],
   "source": [
    "import pandas as pd\n",
    "\n",
    "data = {\n",
    "    'name' : ['zia','haris','fahad','ishaq','zulqarnian','khan'],\n",
    "    'age' : [12,22,5,23,18,34],\n",
    "    'marks': [78,33,56,98,78,33],\n",
    "    'address': ['landikotal','islamabad','peshawar','lahore','karachi','khyber']\n",
    "}\n",
    "\n",
    "dataset = pd.DataFrame(data)\n",
    "\n",
    "file_path = \"student_data.xlsx\"\n",
    "\n",
    "dataset.to_excel(file_path, sheet_name= \"Sheet1\", index=False)\n",
    "\n",
    "print(f'dataset written to {file_path}')"
   ]
  }
 ],
 "metadata": {
  "kernelspec": {
   "display_name": "Python 3",
   "language": "python",
   "name": "python3"
  },
  "language_info": {
   "codemirror_mode": {
    "name": "ipython",
    "version": 3
   },
   "file_extension": ".py",
   "mimetype": "text/x-python",
   "name": "python",
   "nbconvert_exporter": "python",
   "pygments_lexer": "ipython3",
   "version": "3.11.4"
  }
 },
 "nbformat": 4,
 "nbformat_minor": 2
}
