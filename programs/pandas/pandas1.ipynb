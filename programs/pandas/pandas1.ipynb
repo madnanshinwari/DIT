{
 "cells": [
  {
   "cell_type": "code",
   "execution_count": 11,
   "metadata": {},
   "outputs": [
    {
     "name": "stdout",
     "output_type": "stream",
     "text": [
      "    name  age      address\n",
      "0    zia   20  landi kotal\n",
      "1  afnan   12    islamabad\n",
      "2  haris   23       lahore\n",
      "3  ishaq   22      england\n"
     ]
    }
   ],
   "source": [
    "import pandas as  pd\n",
    "\n",
    "data = {\n",
    "    'name':['zia','afnan','haris','ishaq'],\n",
    "    'age' : [20,12,23,22],\n",
    "    'address' : ['landi kotal','islamabad','lahore','england']\n",
    "}\n",
    "\n",
    "full_data = pd.DataFrame(data)\n",
    "\n",
    "print(full_data)\n"
   ]
  }
 ],
 "metadata": {
  "kernelspec": {
   "display_name": "Python 3",
   "language": "python",
   "name": "python3"
  },
  "language_info": {
   "codemirror_mode": {
    "name": "ipython",
    "version": 3
   },
   "file_extension": ".py",
   "mimetype": "text/x-python",
   "name": "python",
   "nbconvert_exporter": "python",
   "pygments_lexer": "ipython3",
   "version": "3.11.4"
  }
 },
 "nbformat": 4,
 "nbformat_minor": 2
}
