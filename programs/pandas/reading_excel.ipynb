{
 "cells": [
  {
   "cell_type": "code",
   "execution_count": 9,
   "metadata": {},
   "outputs": [
    {
     "name": "stdout",
     "output_type": "stream",
     "text": [
      "        Name   Correct Mcqs   wrong mcqs   Total Marks  Obtain Marks position \n",
      "0  Zia ullah               7            3           10             7       2nd\n",
      "1    M Ishaq               7            3           10             7       2nd\n"
     ]
    }
   ],
   "source": [
    "import pandas as pd\n",
    "\n",
    "file_path = \"Quiz result.xlsx\"\n",
    "\n",
    "my_Data = pd.read_excel(file_path, sheet_name=\"Sheet1\")\n",
    "\n",
    "#print(my_Data)\n",
    "print(my_Data.head(2))"
   ]
  }
 ],
 "metadata": {
  "kernelspec": {
   "display_name": "Python 3",
   "language": "python",
   "name": "python3"
  },
  "language_info": {
   "codemirror_mode": {
    "name": "ipython",
    "version": 3
   },
   "file_extension": ".py",
   "mimetype": "text/x-python",
   "name": "python",
   "nbconvert_exporter": "python",
   "pygments_lexer": "ipython3",
   "version": "3.11.4"
  }
 },
 "nbformat": 4,
 "nbformat_minor": 2
}
