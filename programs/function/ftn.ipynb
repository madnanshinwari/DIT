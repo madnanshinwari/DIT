{
 "cells": [
  {
   "cell_type": "code",
   "execution_count": 5,
   "metadata": {},
   "outputs": [
    {
     "name": "stdout",
     "output_type": "stream",
     "text": [
      "my name is ishaq \n",
      " age:18  \n",
      "  address:landikatol\n"
     ]
    }
   ],
   "source": [
    "def my_ftn(name,age,address): # parameter\n",
    "    print(f'my name is {name} \\n age:{age}  \\n  address:{address}')\n",
    "\n",
    "my_ftn('ishaq',18,'landikatol') # argument"
   ]
  },
  {
   "cell_type": "code",
   "execution_count": null,
   "metadata": {},
   "outputs": [
    {
     "name": "stdout",
     "output_type": "stream",
     "text": [
      "10\n",
      "None\n",
      "None\n",
      "None\n",
      "None\n",
      "None\n",
      "None\n",
      "None\n",
      "None\n",
      "None\n",
      "None\n",
      "None\n",
      "None\n",
      "None\n",
      "None\n",
      "None\n"
     ]
    }
   ],
   "source": [
    "def add(a,b):\n",
    "    print(a+b) # print  can't store the value only show one time output\n",
    "\n",
    "\n",
    "result = add(5,5)\n",
    "print(result)\n",
    "print(result)\n",
    "print(result)\n",
    "print(result)\n",
    "print(result)\n",
    "print(result)\n",
    "print(result)\n",
    "print(result)\n",
    "print(result)\n",
    "print(result)\n",
    "print(result)\n",
    "print(result)\n",
    "print(result)\n",
    "print(result)\n",
    "print(result)"
   ]
  },
  {
   "cell_type": "code",
   "execution_count": 1,
   "metadata": {},
   "outputs": [
    {
     "name": "stdout",
     "output_type": "stream",
     "text": [
      "15\n",
      "15\n",
      "15\n",
      "15\n",
      "15\n",
      "15\n",
      "15\n"
     ]
    }
   ],
   "source": [
    "def addition(a,b):\n",
    "    return a+b\n",
    "\n",
    "\n",
    "result = addition(10,5)\n",
    "\n",
    "print(result)\n",
    "print(result)\n",
    "print(result)\n",
    "print(result)\n",
    "print(result)\n",
    "print(result)\n",
    "print(result)"
   ]
  }
 ],
 "metadata": {
  "kernelspec": {
   "display_name": "Python 3",
   "language": "python",
   "name": "python3"
  },
  "language_info": {
   "codemirror_mode": {
    "name": "ipython",
    "version": 3
   },
   "file_extension": ".py",
   "mimetype": "text/x-python",
   "name": "python",
   "nbconvert_exporter": "python",
   "pygments_lexer": "ipython3",
   "version": "3.11.4"
  }
 },
 "nbformat": 4,
 "nbformat_minor": 2
}
