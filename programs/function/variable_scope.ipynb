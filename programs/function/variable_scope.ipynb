{
 "cells": [
  {
   "cell_type": "code",
   "execution_count": 3,
   "metadata": {},
   "outputs": [
    {
     "name": "stdout",
     "output_type": "stream",
     "text": [
      "Haris\n"
     ]
    },
    {
     "ename": "NameError",
     "evalue": "name 'name' is not defined",
     "output_type": "error",
     "traceback": [
      "\u001b[1;31m---------------------------------------------------------------------------\u001b[0m",
      "\u001b[1;31mNameError\u001b[0m                                 Traceback (most recent call last)",
      "Cell \u001b[1;32mIn[3], line 7\u001b[0m\n\u001b[0;32m      3\u001b[0m     \u001b[38;5;28mprint\u001b[39m(name)\n\u001b[0;32m      6\u001b[0m studnet_name()\n\u001b[1;32m----> 7\u001b[0m \u001b[38;5;28mprint\u001b[39m(\u001b[43mname\u001b[49m)\n",
      "\u001b[1;31mNameError\u001b[0m: name 'name' is not defined"
     ]
    }
   ],
   "source": [
    "def studnet_name():\n",
    "    name = 'Haris' # local variable inside function body\n",
    "    print(name)\n",
    "\n",
    "\n",
    "studnet_name()\n",
    "print(name)"
   ]
  },
  {
   "cell_type": "code",
   "execution_count": 5,
   "metadata": {},
   "outputs": [
    {
     "name": "stdout",
     "output_type": "stream",
     "text": [
      "inside ftn Haris\n",
      "outside ftn Haris\n"
     ]
    }
   ],
   "source": [
    "name =\"Haris\"\n",
    "def Global_variable():\n",
    "    print('inside ftn',name)\n",
    "\n",
    "\n",
    "Global_variable()\n",
    "print('outside ftn',name)"
   ]
  },
  {
   "cell_type": "code",
   "execution_count": 9,
   "metadata": {},
   "outputs": [
    {
     "name": "stdout",
     "output_type": "stream",
     "text": [
      "zia ullah \n",
      "haris\n"
     ]
    }
   ],
   "source": [
    "name = 'zia ullah '\n",
    "print(name)\n",
    "name = 'haris'\n",
    "print(name)"
   ]
  },
  {
   "cell_type": "code",
   "execution_count": 11,
   "metadata": {},
   "outputs": [
    {
     "name": "stdout",
     "output_type": "stream",
     "text": [
      "My Name is zia ullah\n"
     ]
    }
   ],
   "source": [
    "# default arguments \n",
    "def Full_name(first_name,second_name = 'khan'):\n",
    "    print(f'My Name is {first_name} {second_name}')\n",
    "\n",
    "\n",
    "\n",
    "Full_name('zia','ullah')"
   ]
  },
  {
   "cell_type": "code",
   "execution_count": null,
   "metadata": {},
   "outputs": [
    {
     "name": "stdout",
     "output_type": "stream",
     "text": [
      "hello\n",
      "6\n",
      "6\n",
      "6\n",
      "6\n"
     ]
    }
   ],
   "source": [
    "def a(a,b):\n",
    "    print('hello')\n",
    "    return a+b\n",
    "    print(\"hello\")\n",
    "\n",
    "result = addition(3,3)\n",
    "print(result)\n",
    "print(result)\n",
    "print(result)\n",
    "print(result)\n"
   ]
  }
 ],
 "metadata": {
  "kernelspec": {
   "display_name": "Python 3",
   "language": "python",
   "name": "python3"
  },
  "language_info": {
   "codemirror_mode": {
    "name": "ipython",
    "version": 3
   },
   "file_extension": ".py",
   "mimetype": "text/x-python",
   "name": "python",
   "nbconvert_exporter": "python",
   "pygments_lexer": "ipython3",
   "version": "3.11.4"
  }
 },
 "nbformat": 4,
 "nbformat_minor": 2
}
